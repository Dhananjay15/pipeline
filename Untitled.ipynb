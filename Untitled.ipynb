{
 "cells": [
  {
   "cell_type": "code",
   "execution_count": 1,
   "id": "6fdecb72",
   "metadata": {},
   "outputs": [
    {
     "name": "stdout",
     "output_type": "stream",
     "text": [
      "\n",
      " #### all files added to dvc ####\n"
     ]
    }
   ],
   "source": [
    "# NOTE: For windows user-\n",
    "# This file must be created in the root of the project \n",
    "# where Training and Prediction batch file as are present\n",
    "\n",
    "import os\n",
    "from glob import glob\n",
    "\n",
    "\n",
    "data_dirs = [\"Training_Batch_Files\",\"Prediction_Batch_files\"]\n",
    "\n",
    "for data_dir in data_dirs:\n",
    "    files = glob(data_dir + r\"/*.csv\")\n",
    "    for filePath in files:\n",
    "        # print(f\"dvc add {filePath}\")\n",
    "        os.system(f\"dvc add {filePath}\")\n",
    "\n",
    "print(\"\\n #### all files added to dvc ####\")"
   ]
  },
  {
   "cell_type": "code",
   "execution_count": null,
   "id": "7ff658f0",
   "metadata": {},
   "outputs": [],
   "source": []
  }
 ],
 "metadata": {
  "kernelspec": {
   "display_name": "Python 3 (ipykernel)",
   "language": "python",
   "name": "python3"
  },
  "language_info": {
   "codemirror_mode": {
    "name": "ipython",
    "version": 3
   },
   "file_extension": ".py",
   "mimetype": "text/x-python",
   "name": "python",
   "nbconvert_exporter": "python",
   "pygments_lexer": "ipython3",
   "version": "3.7.12"
  }
 },
 "nbformat": 4,
 "nbformat_minor": 5
}
